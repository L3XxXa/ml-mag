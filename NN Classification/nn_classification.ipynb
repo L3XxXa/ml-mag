{
  "cells": [
    {
      "cell_type": "code",
      "execution_count": 1,
      "metadata": {
        "colab": {
          "base_uri": "https://localhost:8080/"
        },
        "id": "AHCwg98SzI8A",
        "outputId": "3f4e0fd1-24e2-4eda-d3c0-f34161ace3cb"
      },
      "outputs": [
        {
          "output_type": "stream",
          "name": "stdout",
          "text": [
            "Mounted at /content/drive\n"
          ]
        }
      ],
      "source": [
        "from google.colab import drive\n",
        "drive.mount('/content/drive')"
      ]
    },
    {
      "cell_type": "code",
      "execution_count": 105,
      "metadata": {
        "id": "rJYMHCw0zsEq"
      },
      "outputs": [],
      "source": [
        "import pandas as pd\n",
        "import torch\n",
        "import numpy as np"
      ]
    },
    {
      "cell_type": "code",
      "source": [
        "df = pd.read_csv('/content/drive/MyDrive/ml-labs/adult.csv')"
      ],
      "metadata": {
        "id": "imLoldKNsHCV"
      },
      "execution_count": 104,
      "outputs": []
    },
    {
      "cell_type": "markdown",
      "source": [
        "Так как данный датасет используется в части лабораторных работ, то опущу этап изучения датасета"
      ],
      "metadata": {
        "id": "k7TVoPSNslfi"
      }
    },
    {
      "cell_type": "code",
      "source": [
        "df[df == '?'] = np.nan\n",
        "\n",
        "\n",
        "for col in ['workclass', 'occupation', 'native.country']:\n",
        "    df[col].fillna(df[col].mode()[0], inplace=True)"
      ],
      "metadata": {
        "colab": {
          "base_uri": "https://localhost:8080/"
        },
        "id": "S5qyArsXsay_",
        "outputId": "2253c47f-525d-4d99-8bb5-ea5006f3fe0b"
      },
      "execution_count": 106,
      "outputs": [
        {
          "output_type": "stream",
          "name": "stderr",
          "text": [
            "<ipython-input-106-839e813fca23>:5: FutureWarning: A value is trying to be set on a copy of a DataFrame or Series through chained assignment using an inplace method.\n",
            "The behavior will change in pandas 3.0. This inplace method will never work because the intermediate object on which we are setting values always behaves as a copy.\n",
            "\n",
            "For example, when doing 'df[col].method(value, inplace=True)', try using 'df.method({col: value}, inplace=True)' or df[col] = df[col].method(value) instead, to perform the operation inplace on the original object.\n",
            "\n",
            "\n",
            "  df[col].fillna(df[col].mode()[0], inplace=True)\n"
          ]
        }
      ]
    },
    {
      "cell_type": "code",
      "source": [
        "X = df.drop(['income'], axis=1)\n",
        "\n",
        "y = df['income']"
      ],
      "metadata": {
        "id": "Hd6HyJJ-siCm"
      },
      "execution_count": 107,
      "outputs": []
    },
    {
      "cell_type": "code",
      "source": [
        "categorical_cols = X.select_dtypes(include=[\"object\"]).columns.tolist()\n",
        "numerical_cols = X.select_dtypes(exclude=[\"object\"]).columns.tolist()"
      ],
      "metadata": {
        "id": "0ptdq0YestrS"
      },
      "execution_count": 108,
      "outputs": []
    },
    {
      "cell_type": "code",
      "source": [
        "from sklearn.preprocessing import OneHotEncoder, LabelEncoder, StandardScaler\n",
        "\n",
        "encoder = OneHotEncoder(sparse_output=False, handle_unknown=\"ignore\")\n",
        "X_cat = encoder.fit_transform(X[categorical_cols])\n",
        "\n",
        "scaler = StandardScaler()\n",
        "X_num = scaler.fit_transform(X[numerical_cols])\n",
        "\n",
        "label_encoder = LabelEncoder()\n",
        "y_encoded = label_encoder.fit_transform(y)"
      ],
      "metadata": {
        "id": "IXoTC-a7svXh"
      },
      "execution_count": 109,
      "outputs": []
    },
    {
      "cell_type": "code",
      "source": [
        "X_processed = np.hstack((X_num, X_cat))"
      ],
      "metadata": {
        "id": "fAYXpvVTs19I"
      },
      "execution_count": 111,
      "outputs": []
    },
    {
      "cell_type": "code",
      "source": [
        "from sklearn.model_selection import train_test_split\n",
        "\n",
        "X_train, X_test, y_train, y_test = train_test_split(X_processed, y_encoded, test_size=0.2, random_state=42)"
      ],
      "metadata": {
        "id": "gcRBfnVRs4WX"
      },
      "execution_count": 113,
      "outputs": []
    },
    {
      "cell_type": "code",
      "source": [
        "X_train = torch.tensor(X_train, dtype=torch.float32)\n",
        "y_train = torch.tensor(y_train, dtype=torch.long)\n",
        "X_test = torch.tensor(X_test, dtype=torch.float32)\n",
        "y_test = torch.tensor(y_test, dtype=torch.long)"
      ],
      "metadata": {
        "id": "NHprMR0ys8mw"
      },
      "execution_count": 114,
      "outputs": []
    },
    {
      "cell_type": "markdown",
      "source": [
        "Данные нейронной сети:\n",
        "\n",
        "\n",
        "*   2 слоя\n",
        "*   Функция активации: ReLU\n",
        "* Оптимизатор Adam\n",
        "* Функция потерь: Cross entropy\n",
        "\n"
      ],
      "metadata": {
        "id": "nNdcrxbXtBB1"
      }
    },
    {
      "cell_type": "code",
      "source": [
        "import torch.nn as nn\n",
        "import torch.optim as optim\n",
        "\n",
        "class Net(nn.Module):\n",
        "    def __init__(self, input_dim):\n",
        "        super(Net, self).__init__()\n",
        "        self.fc1 = nn.Linear(input_dim, 64)\n",
        "        self.relu = nn.ReLU()\n",
        "        self.fc2 = nn.Linear(64, 2)\n",
        "\n",
        "    def forward(self, x):\n",
        "        x = self.fc1(x)\n",
        "        x = self.relu(x)\n",
        "        x = self.fc2(x)\n",
        "        return x\n",
        "train_losses = []\n",
        "\n",
        "model = Net(X_train.shape[1])\n",
        "criterion = nn.CrossEntropyLoss()\n",
        "optimizer = optim.Adam(model.parameters(), lr=0.001)\n",
        "\n",
        "for epoch in range(500):\n",
        "    outputs = model(X_train)\n",
        "    loss = criterion(outputs, y_train)\n",
        "\n",
        "    optimizer.zero_grad()\n",
        "    loss.backward()\n",
        "    train_losses.append(loss.item())\n",
        "    optimizer.step()\n",
        "\n",
        "    if epoch % 10 == 0:\n",
        "        print(f\"Epoch {epoch} | Loss: {loss.item():.4f}\")"
      ],
      "metadata": {
        "colab": {
          "base_uri": "https://localhost:8080/"
        },
        "id": "WQ4j2dTIs_Xx",
        "outputId": "a05b0709-96b6-403f-826c-6eee2fd9dbf0"
      },
      "execution_count": 115,
      "outputs": [
        {
          "output_type": "stream",
          "name": "stdout",
          "text": [
            "Epoch 0 | Loss: 0.6765\n",
            "Epoch 10 | Loss: 0.5791\n",
            "Epoch 20 | Loss: 0.4968\n",
            "Epoch 30 | Loss: 0.4350\n",
            "Epoch 40 | Loss: 0.3904\n",
            "Epoch 50 | Loss: 0.3605\n",
            "Epoch 60 | Loss: 0.3443\n",
            "Epoch 70 | Loss: 0.3353\n",
            "Epoch 80 | Loss: 0.3300\n",
            "Epoch 90 | Loss: 0.3261\n",
            "Epoch 100 | Loss: 0.3232\n",
            "Epoch 110 | Loss: 0.3209\n",
            "Epoch 120 | Loss: 0.3189\n",
            "Epoch 130 | Loss: 0.3172\n",
            "Epoch 140 | Loss: 0.3157\n",
            "Epoch 150 | Loss: 0.3144\n",
            "Epoch 160 | Loss: 0.3131\n",
            "Epoch 170 | Loss: 0.3119\n",
            "Epoch 180 | Loss: 0.3109\n",
            "Epoch 190 | Loss: 0.3099\n",
            "Epoch 200 | Loss: 0.3090\n",
            "Epoch 210 | Loss: 0.3082\n",
            "Epoch 220 | Loss: 0.3074\n",
            "Epoch 230 | Loss: 0.3066\n",
            "Epoch 240 | Loss: 0.3059\n",
            "Epoch 250 | Loss: 0.3052\n",
            "Epoch 260 | Loss: 0.3045\n",
            "Epoch 270 | Loss: 0.3039\n",
            "Epoch 280 | Loss: 0.3032\n",
            "Epoch 290 | Loss: 0.3026\n",
            "Epoch 300 | Loss: 0.3020\n",
            "Epoch 310 | Loss: 0.3013\n",
            "Epoch 320 | Loss: 0.3007\n",
            "Epoch 330 | Loss: 0.3001\n",
            "Epoch 340 | Loss: 0.2995\n",
            "Epoch 350 | Loss: 0.2989\n",
            "Epoch 360 | Loss: 0.2983\n",
            "Epoch 370 | Loss: 0.2977\n",
            "Epoch 380 | Loss: 0.2971\n",
            "Epoch 390 | Loss: 0.2965\n",
            "Epoch 400 | Loss: 0.2959\n",
            "Epoch 410 | Loss: 0.2953\n",
            "Epoch 420 | Loss: 0.2947\n",
            "Epoch 430 | Loss: 0.2942\n",
            "Epoch 440 | Loss: 0.2936\n",
            "Epoch 450 | Loss: 0.2930\n",
            "Epoch 460 | Loss: 0.2924\n",
            "Epoch 470 | Loss: 0.2919\n",
            "Epoch 480 | Loss: 0.2913\n",
            "Epoch 490 | Loss: 0.2908\n"
          ]
        }
      ]
    },
    {
      "cell_type": "code",
      "source": [
        "from sklearn.metrics import accuracy_score, confusion_matrix, ConfusionMatrixDisplay\n",
        "\n",
        "with torch.no_grad():\n",
        "    y_pred = model(X_test)\n",
        "    predicted_classes = torch.argmax(y_pred, dim=1)\n",
        "    accuracy = accuracy_score(y_test, predicted_classes)\n",
        "    print(f\"Model accuracy score: {accuracy}\")"
      ],
      "metadata": {
        "colab": {
          "base_uri": "https://localhost:8080/"
        },
        "id": "99Ft0OertWIZ",
        "outputId": "18c6ebb2-3da5-4f70-f40f-d0669aad1a2f"
      },
      "execution_count": 116,
      "outputs": [
        {
          "output_type": "stream",
          "name": "stdout",
          "text": [
            "Model accuracy score: 0.8538307999385844\n"
          ]
        }
      ]
    },
    {
      "cell_type": "code",
      "source": [
        "import matplotlib.pyplot as plt\n",
        "\n",
        "plt.figure(figsize=(8, 4))\n",
        "plt.plot(train_losses, label=\"Training Loss\", color='blue')\n",
        "plt.xlabel(\"Epoch\")\n",
        "plt.ylabel(\"Loss\")\n",
        "plt.title(\"Training Loss over Epochs\")\n",
        "plt.legend()\n",
        "plt.grid(True)\n",
        "plt.tight_layout()\n",
        "plt.show()"
      ],
      "metadata": {
        "colab": {
          "base_uri": "https://localhost:8080/",
          "height": 407
        },
        "id": "0eCFY69CtZOz",
        "outputId": "e6197bed-c13c-4bad-c0b5-59fe4e9e2466"
      },
      "execution_count": 117,
      "outputs": [
        {
          "output_type": "display_data",
          "data": {
            "text/plain": [
              "<Figure size 800x400 with 1 Axes>"
            ],
            "image/png": "[encoded data removed]"
          },
          "metadata": {}
        }
      ]
    },
    {
      "cell_type": "markdown",
      "source": [
        "На графике видно, что можно ~ 100 эпох, так как ошибка падает медленнее"
      ],
      "metadata": {
        "id": "a1zFDUuntcFY"
      }
    },
    {
      "cell_type": "code",
      "source": [
        "from sklearn.metrics import confusion_matrix, ConfusionMatrixDisplay\n",
        "import matplotlib.pyplot as plt\n",
        "\n",
        "with torch.no_grad():\n",
        "    y_logits = model(X_test)\n",
        "    y_pred = torch.argmax(y_logits, dim=1)\n",
        "\n",
        "conf_matrix = confusion_matrix(y_test, y_pred)\n",
        "\n",
        "cm_display = ConfusionMatrixDisplay(confusion_matrix=conf_matrix, display_labels=label_encoder.classes_)\n",
        "cm_display.plot()"
      ],
      "metadata": {
        "colab": {
          "base_uri": "https://localhost:8080/",
          "height": 466
        },
        "id": "tLQm5Tk3tbNW",
        "outputId": "74493abc-33d4-4015-ec69-01ede95bf001"
      },
      "execution_count": 118,
      "outputs": [
        {
          "output_type": "execute_result",
          "data": {
            "text/plain": [
              "<sklearn.metrics._plot.confusion_matrix.ConfusionMatrixDisplay at 0x7bd5f997b310>"
            ]
          },
          "metadata": {},
          "execution_count": 118
        },
        {
          "output_type": "display_data",
          "data": {
            "text/plain": [
              "<Figure size 640x480 with 2 Axes>"
            ],
            "image/png": "[encoded data removed]"
          },
          "metadata": {}
        }
      ]
    }
  ],
  "metadata": {
    "colab": {
      "provenance": []
    },
    "kernelspec": {
      "display_name": "Python 3",
      "name": "python3"
    },
    "language_info": {
      "name": "python"
    }
  },
  "nbformat": 4,
  "nbformat_minor": 0
}